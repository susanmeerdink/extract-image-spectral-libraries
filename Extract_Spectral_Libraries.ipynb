{
 "cells": [
  {
   "cell_type": "markdown",
   "metadata": {},
   "source": [
    "## Extract Spectral Libraries from Imagery\n",
    "This code uses a reference polygon dataset of plant species to extract spectra from imagery. \n",
    "\n",
    "* Can extract spectra from single image or multiple images in a directory. If using a directory, image spectra can be saved separately or as a single file. \n",
    "* Code can be run without metadata, metadata provided as .csv, and metadata from shapefile\n",
    "\n",
    "Susan Meerdink  \n",
    "April 2019"
   ]
  },
  {
   "cell_type": "code",
   "execution_count": 1,
   "metadata": {},
   "outputs": [],
   "source": [
    "# Import Modules\n",
    "import glob\n",
    "import numpy as np\n",
    "import rasterio.plot\n",
    "from rasterio import features\n",
    "from matplotlib.collections import PatchCollection\n",
    "import matplotlib.pyplot as plt\n",
    "import fiona\n",
    "from descartes import PolygonPatch\n",
    "from shapely.geometry import shape, MultiPolygon\n",
    "from shapely.ops import transform\n",
    "import pyproj\n",
    "from functools import partial\n",
    "import random\n",
    "import gc\n",
    "from os.path import basename\n",
    "import os\n",
    "import utils"
   ]
  },
  {
   "cell_type": "markdown",
   "metadata": {},
   "source": [
    "TO DO:\n",
    "it is saving the output file into the same folder as input and not renaming\n",
    "the header is not outputting the bands names (0,0)"
   ]
  },
  {
   "cell_type": "code",
   "execution_count": 2,
   "metadata": {},
   "outputs": [],
   "source": [
    "# # Processing Single file without metadata\n",
    "# polyLocation = 'C:\\\\Users\\\\susanmeerdink\\\\Documents\\\\Git\\\\extract-image-spectral-libraries\\\\Testing\\\\Input\\\\input_shapefile'\n",
    "# imageLocation = 'C:\\\\Users\\\\susanmeerdink\\\\Documents\\\\Git\\\\extract-image-spectral-libraries\\\\Testing\\\\Input\\\\TestImage'\n",
    "# outLocation = 'C:\\\\Users\\\\susanmeerdink\\\\Documents\\\\Git\\\\extract-image-spectral-libraries\\\\Testing\\\\Output\\\\output'\n",
    "# utils.create_spec_lib(polyLocation, imageLocation, outLocation, 0, 0)"
   ]
  },
  {
   "cell_type": "code",
   "execution_count": 3,
   "metadata": {},
   "outputs": [
    {
     "ename": "NameError",
     "evalue": "name 'create_spec_lib' is not defined",
     "output_type": "error",
     "traceback": [
      "\u001b[1;31m---------------------------------------------------------------------------\u001b[0m",
      "\u001b[1;31mNameError\u001b[0m                                 Traceback (most recent call last)",
      "\u001b[1;32m<ipython-input-3-a5a09c23f690>\u001b[0m in \u001b[0;36m<module>\u001b[1;34m\u001b[0m\n\u001b[0;32m      3\u001b[0m \u001b[0mimageLocation\u001b[0m \u001b[1;33m=\u001b[0m \u001b[1;34m'C:\\\\Users\\\\susanmeerdink\\\\Dropbox (UFL)\\\\Analysis\\\\WHISPERS_2019\\\\Imagery\\\\20190903\\\\f140829t01p00r09_corr_v1_urb_10000_SMA_20190903T14H11M06S_init_sn_rot_geo'\u001b[0m\u001b[1;33m\u001b[0m\u001b[1;33m\u001b[0m\u001b[0m\n\u001b[0;32m      4\u001b[0m \u001b[0moutLocation\u001b[0m \u001b[1;33m=\u001b[0m \u001b[1;34m'C:\\\\Users\\\\susanmeerdink\\\\Dropbox (UFL)\\\\Analysis\\\\WHISPERS_2019\\\\Imagery\\\\ACE\\\\f140829t01p00r09_20190903_init_fractions.csv'\u001b[0m\u001b[1;33m\u001b[0m\u001b[1;33m\u001b[0m\u001b[0m\n\u001b[1;32m----> 5\u001b[1;33m \u001b[0mcreate_spec_lib\u001b[0m\u001b[1;33m(\u001b[0m\u001b[0mpolyLocation\u001b[0m\u001b[1;33m,\u001b[0m \u001b[0mimageLocation\u001b[0m\u001b[1;33m,\u001b[0m \u001b[0moutLocation\u001b[0m\u001b[1;33m,\u001b[0m \u001b[1;36m0\u001b[0m\u001b[1;33m)\u001b[0m\u001b[1;33m\u001b[0m\u001b[1;33m\u001b[0m\u001b[0m\n\u001b[0m\u001b[0;32m      6\u001b[0m \u001b[1;33m\u001b[0m\u001b[0m\n\u001b[0;32m      7\u001b[0m \u001b[0mimageLocation\u001b[0m \u001b[1;33m=\u001b[0m \u001b[1;34m'C:\\\\Users\\\\susanmeerdink\\\\Dropbox (UFL)\\\\Analysis\\\\WHISPERS_2019\\\\Imagery\\\\20190903\\\\f140829t01p00r10_corr_v1_urb_10000_SMA_20190903T18H12M43S_init_sn_rot_geo'\u001b[0m\u001b[1;33m\u001b[0m\u001b[1;33m\u001b[0m\u001b[0m\n",
      "\u001b[1;31mNameError\u001b[0m: name 'create_spec_lib' is not defined"
     ]
    }
   ],
   "source": [
    "# WHISPERS Conference 2019 - 20190903 Init\n",
    "polyLocation = 'C:\\\\Users\\\\susanmeerdink\\\\Dropbox (UFL)\\\\Analysis\\\\WHISPERS_2019\\\\Validation_polygons\\\\SB_092014_VALID'\n",
    "imageLocation = 'C:\\\\Users\\\\susanmeerdink\\\\Dropbox (UFL)\\\\Analysis\\\\WHISPERS_2019\\\\Imagery\\\\20190903\\\\f140829t01p00r09_corr_v1_urb_10000_SMA_20190903T14H11M06S_init_sn_rot_geo'\n",
    "outLocation = 'C:\\\\Users\\\\susanmeerdink\\\\Dropbox (UFL)\\\\Analysis\\\\WHISPERS_2019\\\\Imagery\\\\ACE\\\\f140829t01p00r09_20190903_init_fractions.csv'\n",
    "create_spec_lib(polyLocation, imageLocation, outLocation, 0)\n",
    "\n",
    "imageLocation = 'C:\\\\Users\\\\susanmeerdink\\\\Dropbox (UFL)\\\\Analysis\\\\WHISPERS_2019\\\\Imagery\\\\20190903\\\\f140829t01p00r10_corr_v1_urb_10000_SMA_20190903T18H12M43S_init_sn_rot_geo'\n",
    "outLocation = 'C:\\\\Users\\\\susanmeerdink\\\\Dropbox (UFL)\\\\Analysis\\\\WHISPERS_2019\\\\Imagery\\\\20190903\\\\f140829t01p00r10_20190903_init_fractions.csv'\n",
    "create_spec_lib(polyLocation, imageLocation, outLocation, 0)"
   ]
  },
  {
   "cell_type": "code",
   "execution_count": null,
   "metadata": {
    "scrolled": true
   },
   "outputs": [],
   "source": [
    "# # WHISPERS Conference 2019 - 6 Target with ACE proportions\n",
    "# polyLocation = 'C:\\\\Users\\\\susanmeerdink\\\\Dropbox (UFL)\\\\Analysis\\\\WHISPERS_2019\\\\Validation_polygons\\\\SB_092014_VALID'\n",
    "# imageLocation = 'C:\\\\Users\\\\susanmeerdink\\\\Dropbox (UFL)\\\\Analysis\\\\WHISPERS_2019\\\\Imagery\\\\ACE\\\\f140829t01p00r09_ACE_Alpha005_Conf_noopt_rot_geo'\n",
    "# outLocation = 'C:\\\\Users\\\\susanmeerdink\\\\Dropbox (UFL)\\\\Analysis\\\\WHISPERS_2019\\\\Imagery\\\\ACE\\\\f140829t01p00r09_ACE_Alpha005_Conf_noopt_rot_geo_fractions.csv'\n",
    "# create_spec_lib(polyLocation, imageLocation, outLocation, 0)\n",
    "\n",
    "# imageLocation = 'C:\\\\Users\\\\susanmeerdink\\\\Dropbox (UFL)\\\\Analysis\\\\WHISPERS_2019\\\\Imagery\\\\ACE\\\\f140829t01p00r10_ACE_Alpha005_Conf_noopt_rot_geo'\n",
    "# outLocation = 'C:\\\\Users\\\\susanmeerdink\\\\Dropbox (UFL)\\\\Analysis\\\\WHISPERS_2019\\\\Imagery\\\\ACE\\\\f140829t01p00r10_ACE_Alpha005_Conf_noopt_rot_geo_fractions.csv'\n",
    "# create_spec_lib(polyLocation, imageLocation, outLocation, 0)\n",
    "\n",
    "# imageLocation = 'C:\\\\Users\\\\susanmeerdink\\\\Dropbox (UFL)\\\\Analysis\\\\WHISPERS_2019\\\\MESMA\\\\18m_mos_nan_SA'\n",
    "# outLocation = 'C:\\\\Users\\\\susanmeerdink\\\\Dropbox (UFL)\\\\Analysis\\\\WHISPERS_2019\\\\MESMA\\\\18m_mos_nan_SA_fractions.csv'\n",
    "# create_spec_lib(polyLocation, imageLocation, outLocation, 0)"
   ]
  },
  {
   "cell_type": "code",
   "execution_count": null,
   "metadata": {},
   "outputs": [],
   "source": [
    "# # WHISPERS Conference 2019 - 6 Target\n",
    "# polyLocation = 'C:\\\\Users\\\\susanmeerdink\\\\Dropbox (UFL)\\\\Analysis\\\\WHISPERS_2019\\\\Validation_polygons\\\\SB_092014_VALID'\n",
    "# imageLocation = 'C:\\\\Users\\\\susanmeerdink\\\\Dropbox (UFL)\\\\Analysis\\\\WHISPERS_2019\\\\Imagery\\\\Original\\\\f140829t01p00r09_corr_v1_urb_10000_SMA_20190514T15H45M47S_shadenorm_rot_geo'\n",
    "# outLocation = 'C:\\\\Users\\\\susanmeerdink\\\\Dropbox (UFL)\\\\Analysis\\\\WHISPERS_2019\\\\Imagery\\\\Original\\\\f140829t01p00r09_corr_v1_urb_10000_SMA_20190514T15H45M47S_shadenorm_rot_geo_fractions.csv'\n",
    "# create_spec_lib(polyLocation, imageLocation, outLocation, 0)\n",
    "\n",
    "# imageLocation = 'C:\\\\Users\\\\susanmeerdink\\\\Dropbox (UFL)\\\\Analysis\\\\WHISPERS_2019\\\\Imagery\\\\Original\\\\f140829t01p00r10_corr_v1_urb_10000_SMA_20190515T00H47M22S_shadenorm_rot_geo'\n",
    "# outLocation = 'C:\\\\Users\\\\susanmeerdink\\\\Dropbox (UFL)\\\\Analysis\\\\WHISPERS_2019\\\\Imagery\\\\Original\\\\f140829t01p00r10_corr_v1_urb_10000_SMA_20190515T00H47M22S_shadenorm_rot_geo_fractions.csv'\n",
    "# create_spec_lib(polyLocation, imageLocation, outLocation, 0)\n"
   ]
  },
  {
   "cell_type": "code",
   "execution_count": null,
   "metadata": {},
   "outputs": [],
   "source": []
  },
  {
   "cell_type": "code",
   "execution_count": null,
   "metadata": {},
   "outputs": [],
   "source": [
    "# # Processing single file with shapefile metadata\n",
    "# polyLocation = 'C:\\\\Users\\\\susanmeerdink\\\\Documents\\\\Git\\\\extract-image-spectral-libraries\\\\Testing\\\\Input\\\\shapefile'\n",
    "# imageLocation = 'C:\\\\Users\\\\susanmeerdink\\\\Documents\\\\Git\\\\extract-image-spectral-libraries\\\\Testing\\\\Input\\\\TestImage'\n",
    "# outLocation = 'C:\\\\Users\\\\susanmeerdink\\\\Documents\\\\Git\\\\extract-image-spectral-libraries\\\\Testing\\\\Output\\\\output'\n",
    "# create_spec_lib(polyLocation, imageLocation, outLocation, 0)"
   ]
  },
  {
   "cell_type": "code",
   "execution_count": null,
   "metadata": {
    "scrolled": false
   },
   "outputs": [],
   "source": [
    "# # Processing single file with .csv metadata\n",
    "# polyLocation = 'C:\\\\Users\\\\susanmeerdink\\\\Documents\\\\Git\\\\extract-image-spectral-libraries\\\\Testing\\\\Input\\\\shapefile'\n",
    "# imageLocation = 'C:\\\\Users\\\\susanmeerdink\\\\Documents\\\\Git\\\\extract-image-spectral-libraries\\\\Testing\\\\Input\\\\TestImage'\n",
    "# outLocation = 'C:\\\\Users\\\\susanmeerdink\\\\Documents\\\\Git\\\\extract-image-spectral-libraries\\\\Testing\\\\Output\\\\output'\n",
    "# metaLocation = 'C:\\\\Users\\\\susanmeerdink\\\\Documents\\\\Git\\\\extract-image-spectral-libraries\\\\Testing\\\\Input\\\\meta.csv'\n",
    "# create_spec_lib(polyLocation, imageLocation, outLocation, 0, [metaLocation, '', ''])"
   ]
  },
  {
   "cell_type": "code",
   "execution_count": null,
   "metadata": {},
   "outputs": [],
   "source": [
    "# Processing multiple files without metadata separately"
   ]
  },
  {
   "cell_type": "code",
   "execution_count": null,
   "metadata": {
    "scrolled": false
   },
   "outputs": [],
   "source": [
    "# Processing multiple files with shapefile metadata separately"
   ]
  },
  {
   "cell_type": "code",
   "execution_count": null,
   "metadata": {},
   "outputs": [],
   "source": [
    "# Processing multiple files with .csv metadata separately"
   ]
  },
  {
   "cell_type": "code",
   "execution_count": null,
   "metadata": {},
   "outputs": [],
   "source": [
    "# Processing multiple files without metadata together"
   ]
  },
  {
   "cell_type": "code",
   "execution_count": null,
   "metadata": {},
   "outputs": [],
   "source": [
    "# Processing multiple files with shapefile metadata together"
   ]
  },
  {
   "cell_type": "code",
   "execution_count": null,
   "metadata": {},
   "outputs": [],
   "source": [
    "# Processing multiple files with .csv metadata together"
   ]
  }
 ],
 "metadata": {
  "kernelspec": {
   "display_name": "Python 3",
   "language": "python",
   "name": "python3"
  },
  "language_info": {
   "codemirror_mode": {
    "name": "ipython",
    "version": 3
   },
   "file_extension": ".py",
   "mimetype": "text/x-python",
   "name": "python",
   "nbconvert_exporter": "python",
   "pygments_lexer": "ipython3",
   "version": "3.7.1"
  }
 },
 "nbformat": 4,
 "nbformat_minor": 2
}
